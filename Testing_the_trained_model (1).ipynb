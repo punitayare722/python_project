{
  "nbformat": 4,
  "nbformat_minor": 0,
  "metadata": {
    "colab": {
      "provenance": []
    },
    "kernelspec": {
      "name": "python3",
      "display_name": "Python 3"
    },
    "language_info": {
      "name": "python"
    }
  },
  "cells": [
    {
      "cell_type": "code",
      "source": [
        "\n"
      ],
      "metadata": {
        "colab": {
          "base_uri": "https://localhost:8080/"
        },
        "id": "CAntmwXpjsbr",
        "outputId": "f50b6734-39cf-4db8-bcf5-8bc581569a94"
      },
      "execution_count": null,
      "outputs": [
        {
          "output_type": "stream",
          "name": "stderr",
          "text": [
            "[nltk_data] Downloading package punkt to /root/nltk_data...\n",
            "[nltk_data]   Package punkt is already up-to-date!\n",
            "[nltk_data] Downloading package stopwords to /root/nltk_data...\n",
            "[nltk_data]   Package stopwords is already up-to-date!\n",
            "[nltk_data] Downloading package punkt_tab to /root/nltk_data...\n",
            "[nltk_data]   Unzipping tokenizers/punkt_tab.zip.\n"
          ]
        },
        {
          "output_type": "execute_result",
          "data": {
            "text/plain": [
              "True"
            ]
          },
          "metadata": {},
          "execution_count": 13
        }
      ]
    },
    {
      "cell_type": "code",
      "source": [
        "import joblib\n",
        "import re\n",
        "import nltk\n",
        "from nltk.tokenize import word_tokenize\n",
        "from nltk.corpus import stopwords\n",
        "from nltk.stem.porter import PorterStemmer\n",
        "\n",
        "# Download required NLTK data (only run once)\n",
        "nltk.download(\"punkt_tab\")\n",
        "nltk.download(\"stopwords\")\n",
        "\n",
        "# Load trained model and vectorizer\n",
        "model = joblib.load(\"sentiment_model.sav\")\n",
        "vectorizer = joblib.load(\"vectorizer.sav\")\n",
        "\n",
        "# Initialize stemmer\n",
        "stemmer = PorterStemmer()\n",
        "\n",
        "# Define negation words\n",
        "negation_words = set([\n",
        "    \"not\", \"no\", \"n't\", \"dont\", \"don't\", \"doesnt\", \"doesn't\", \"isnt\", \"isn't\",\n",
        "    \"wasnt\", \"wasn't\", \"didnt\", \"didn't\", \"wont\", \"won't\", \"cant\", \"can't\"\n",
        "])\n",
        "\n",
        "# Create custom stopword list by removing negations\n",
        "default_stopwords = set(stopwords.words('english'))\n",
        "custom_stopwords = default_stopwords - negation_words\n",
        "\n",
        "# Function to handle negations\n",
        "def handle_negation(text):\n",
        "    words = word_tokenize(text.lower())\n",
        "    negation = False\n",
        "    processed_words = []\n",
        "\n",
        "    for word in words:\n",
        "        if word in negation_words:\n",
        "            negation = True\n",
        "            continue\n",
        "\n",
        "        if negation:\n",
        "            word = \"not_\" + word\n",
        "            negation = False\n",
        "\n",
        "        processed_words.append(word)\n",
        "    return \" \".join(processed_words)\n",
        "\n",
        "# Final preprocessing function (same as training)\n",
        "def stemming(content):\n",
        "    if not content:\n",
        "        return \"\"\n",
        "\n",
        "    content = handle_negation(content)\n",
        "    content = re.sub(r'[^a-zA-Z_\\s]', ' ', content)\n",
        "    content = content.lower().split()\n",
        "\n",
        "    processed_content = []\n",
        "    for word in content:\n",
        "        if word.startswith(\"not_\"):\n",
        "            processed_content.append(word)\n",
        "        elif word not in custom_stopwords:\n",
        "            processed_content.append(stemmer.stem(word))\n",
        "    return ' '.join(processed_content)\n",
        "\n",
        "# === Test Input ===\n",
        "sample_text = [\"I don't like this movie.\"]  # Negative sentiment example\n",
        "\n",
        "# Preprocess and predict\n",
        "preprocessed_text = [stemming(sample_text[0])]\n",
        "vector = vectorizer.transform(preprocessed_text)\n",
        "prediction = model.predict(vector)[0]\n",
        "\n",
        "# Map prediction to label\n",
        "label_map = {0: \"negative\", 1: \"positive\"}\n",
        "print(\"Text:\", sample_text[0])\n",
        "print(\"Preprocessed:\", preprocessed_text[0])\n",
        "print(\"Predicted Sentiment:\", label_map[prediction])\n",
        "\n"
      ],
      "metadata": {
        "colab": {
          "base_uri": "https://localhost:8080/"
        },
        "id": "Ff55E4s2oiBd",
        "outputId": "48a6f425-95c7-472d-a42e-3966fa41c7dc"
      },
      "execution_count": 4,
      "outputs": [
        {
          "output_type": "stream",
          "name": "stderr",
          "text": [
            "[nltk_data] Downloading package punkt_tab to /root/nltk_data...\n",
            "[nltk_data]   Unzipping tokenizers/punkt_tab.zip.\n",
            "[nltk_data] Downloading package stopwords to /root/nltk_data...\n",
            "[nltk_data]   Package stopwords is already up-to-date!\n"
          ]
        },
        {
          "output_type": "stream",
          "name": "stdout",
          "text": [
            "Text: I don't like this movie.\n",
            "Preprocessed: not_like movi\n",
            "Predicted Sentiment: negative\n"
          ]
        }
      ]
    }
  ]
}